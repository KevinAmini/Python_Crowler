{
 "cells": [
  {
   "cell_type": "code",
   "execution_count": 35,
   "id": "fbb82a92",
   "metadata": {},
   "outputs": [],
   "source": [
    "import urllib\n",
    "from bs4 import BeautifulSoup\n",
    "import validators\n",
    "import random"
   ]
  },
  {
   "cell_type": "code",
   "execution_count": 81,
   "id": "217547c5",
   "metadata": {},
   "outputs": [],
   "source": [
    "#url='http://www.tabnak.ir'\n",
    "url='http://www.cnn.com'\n",
    "list_total=[]\n",
    "rank=1"
   ]
  },
  {
   "cell_type": "code",
   "execution_count": 77,
   "id": "35f6831d",
   "metadata": {},
   "outputs": [],
   "source": [
    "def Crowl(url):\n",
    "    counter1=0\n",
    "    list_add=[]\n",
    "    global rank\n",
    "    print(\"the current url is:\", url)\n",
    "    print(\"the stack of urls crowlered are:\\n\",list_total)\n",
    "    if rank<10:\n",
    "        try:\n",
    "            reqs=urllib.request.urlopen(url)\n",
    "            Soup=BeautifulSoup(reqs,'html.parser') \n",
    "            Refrenc=Soup.find_all('a')  \n",
    "        except:\n",
    "            print(\"The url should be changed\")\n",
    "            url=list_total.pop() \n",
    "            url\n",
    "\n",
    "        for link in Refrenc:\n",
    "             if link.get('href') is not None:\n",
    "                if(validators.url(link.get('href'))):\n",
    "                    list_add.append(link.get('href'))\n",
    "        print(\"the length of list of links is:\",len(list_add))\n",
    "        mylist = list(dict.fromkeys(list_add))\n",
    "        print(\"the length of reduced list is:\",len(mylist))\n",
    "\n",
    "        try:\n",
    "            counter1=0\n",
    "            select_list=[]\n",
    "            select_index=0\n",
    "            for i in mylist:\n",
    "                        if i!=url:\n",
    "                            select_list.append(i)\n",
    "            select_index=random.randint(0, (len(select_list)))  \n",
    "            print(\"the length of my list is:\",len(mylist))\n",
    "            print(\"the length of short list is :\",len(select_list))\n",
    "            print(\"the last url is:\",url,\"new url is:\",select_list[select_index])\n",
    "            url=select_list[select_index]\n",
    "            list_total.append(url)\n",
    "        except:\n",
    "            print(\"The url should be changed\")\n",
    "            url=list_total.pop()\n",
    "        rank+=1\n",
    "        print(\"the depth of crowler is:\",rank)\n",
    "        Crowl(url) \n",
    "    else:\n",
    "         print(\"corwler is finished\")"
   ]
  },
  {
   "cell_type": "code",
   "execution_count": 82,
   "id": "e90dbff4",
   "metadata": {},
   "outputs": [
    {
     "name": "stdout",
     "output_type": "stream",
     "text": [
      "the current url is: http://www.cnn.com\n",
      "the stack of urls crowlered are:\n",
      " []\n",
      "the length of list of links is: 22\n",
      "the length of reduced list is: 12\n",
      "the length of my list is: 12\n",
      "the length of short list is : 12\n",
      "the last url is: http://www.cnn.com new url is: https://bleacherreport.com/nfl\n",
      "the depth of crowler is: 2\n",
      "the current url is: https://bleacherreport.com/nfl\n",
      "the stack of urls crowlered are:\n",
      " ['https://bleacherreport.com/nfl']\n",
      "the length of list of links is: 88\n",
      "the length of reduced list is: 68\n",
      "the length of my list is: 68\n",
      "the length of short list is : 68\n",
      "the last url is: https://bleacherreport.com/nfl new url is: https://bleacherreport.com/videos/406354-ranking-top-10-teams-in-nfl\n",
      "the depth of crowler is: 3\n",
      "the current url is: https://bleacherreport.com/videos/406354-ranking-top-10-teams-in-nfl\n",
      "the stack of urls crowlered are:\n",
      " ['https://bleacherreport.com/nfl', 'https://bleacherreport.com/videos/406354-ranking-top-10-teams-in-nfl']\n",
      "the length of list of links is: 10\n",
      "the length of reduced list is: 7\n",
      "the length of my list is: 7\n",
      "the length of short list is : 7\n",
      "the last url is: https://bleacherreport.com/videos/406354-ranking-top-10-teams-in-nfl new url is: https://br.app.link/kvlitRF9Dqb\n",
      "the depth of crowler is: 4\n",
      "the current url is: https://br.app.link/kvlitRF9Dqb\n",
      "the stack of urls crowlered are:\n",
      " ['https://bleacherreport.com/nfl', 'https://bleacherreport.com/videos/406354-ranking-top-10-teams-in-nfl', 'https://br.app.link/kvlitRF9Dqb']\n",
      "the length of list of links is: 0\n",
      "the length of reduced list is: 0\n",
      "the length of my list is: 0\n",
      "the length of short list is : 0\n",
      "The url should be changed\n",
      "the depth of crowler is: 5\n",
      "the current url is: https://br.app.link/kvlitRF9Dqb\n",
      "the stack of urls crowlered are:\n",
      " ['https://bleacherreport.com/nfl', 'https://bleacherreport.com/videos/406354-ranking-top-10-teams-in-nfl']\n",
      "the length of list of links is: 0\n",
      "the length of reduced list is: 0\n",
      "the length of my list is: 0\n",
      "the length of short list is : 0\n",
      "The url should be changed\n",
      "the depth of crowler is: 6\n",
      "the current url is: https://bleacherreport.com/videos/406354-ranking-top-10-teams-in-nfl\n",
      "the stack of urls crowlered are:\n",
      " ['https://bleacherreport.com/nfl']\n",
      "the length of list of links is: 10\n",
      "the length of reduced list is: 7\n",
      "the length of my list is: 7\n",
      "the length of short list is : 7\n",
      "The url should be changed\n",
      "the depth of crowler is: 7\n",
      "the current url is: https://bleacherreport.com/nfl\n",
      "the stack of urls crowlered are:\n",
      " []\n",
      "the length of list of links is: 88\n",
      "the length of reduced list is: 68\n",
      "the length of my list is: 68\n",
      "the length of short list is : 68\n",
      "the last url is: https://bleacherreport.com/nfl new url is: https://twitter.com/brgridiron/status/1638629088360542215\n",
      "the depth of crowler is: 8\n",
      "the current url is: https://twitter.com/brgridiron/status/1638629088360542215\n",
      "the stack of urls crowlered are:\n",
      " ['https://twitter.com/brgridiron/status/1638629088360542215']\n",
      "the length of list of links is: 6\n",
      "the length of reduced list is: 6\n",
      "the length of my list is: 6\n",
      "the length of short list is : 6\n",
      "the last url is: https://twitter.com/brgridiron/status/1638629088360542215 new url is: https://business.twitter.com/en/help/troubleshooting/how-twitter-ads-work.html?ref=web-twc-ao-gbl-adsinfo&utm_source=twc&utm_medium=web&utm_campaign=ao&utm_content=adsinfo\n",
      "the depth of crowler is: 9\n",
      "the current url is: https://business.twitter.com/en/help/troubleshooting/how-twitter-ads-work.html?ref=web-twc-ao-gbl-adsinfo&utm_source=twc&utm_medium=web&utm_campaign=ao&utm_content=adsinfo\n",
      "the stack of urls crowlered are:\n",
      " ['https://twitter.com/brgridiron/status/1638629088360542215', 'https://business.twitter.com/en/help/troubleshooting/how-twitter-ads-work.html?ref=web-twc-ao-gbl-adsinfo&utm_source=twc&utm_medium=web&utm_campaign=ao&utm_content=adsinfo']\n",
      "the length of list of links is: 53\n",
      "the length of reduced list is: 52\n",
      "the length of my list is: 52\n",
      "the length of short list is : 52\n",
      "the last url is: https://business.twitter.com/en/help/troubleshooting/how-twitter-ads-work.html?ref=web-twc-ao-gbl-adsinfo&utm_source=twc&utm_medium=web&utm_campaign=ao&utm_content=adsinfo new url is: https://privacy.twitter.com/\n",
      "the depth of crowler is: 10\n",
      "the current url is: https://privacy.twitter.com/\n",
      "the stack of urls crowlered are:\n",
      " ['https://twitter.com/brgridiron/status/1638629088360542215', 'https://business.twitter.com/en/help/troubleshooting/how-twitter-ads-work.html?ref=web-twc-ao-gbl-adsinfo&utm_source=twc&utm_medium=web&utm_campaign=ao&utm_content=adsinfo', 'https://privacy.twitter.com/']\n",
      "corwler is finished\n"
     ]
    }
   ],
   "source": [
    "Crowl(url)"
   ]
  },
  {
   "cell_type": "code",
   "execution_count": 79,
   "id": "0a0d95d3",
   "metadata": {},
   "outputs": [
    {
     "data": {
      "text/plain": [
       "['http://cnnnewsource.com',\n",
       " 'https://www.cnnnewsource.com/latest-insights/',\n",
       " 'https://www.cnnnewsource.com/in-the-classroom/',\n",
       " 'https://twitter.com/cnnnewsource',\n",
       " 'https://legal.twitter.com/imprint.html',\n",
       " 'https://twitter.com/privacy',\n",
       " 'https://help.twitter.com/managing-your-account/connect-or-revoke-access-to-third-party-apps?lang=browser',\n",
       " 'https://help.twitter.com/en/managing-your-account/forgotten-or-lost-password-reset',\n",
       " 'https://blog.twitter.com/developer/']"
      ]
     },
     "execution_count": 79,
     "metadata": {},
     "output_type": "execute_result"
    }
   ],
   "source": [
    "list_total"
   ]
  },
  {
   "cell_type": "code",
   "execution_count": null,
   "id": "5881b9ec",
   "metadata": {},
   "outputs": [],
   "source": []
  }
 ],
 "metadata": {
  "kernelspec": {
   "display_name": "Python 3 (ipykernel)",
   "language": "python",
   "name": "python3"
  },
  "language_info": {
   "codemirror_mode": {
    "name": "ipython",
    "version": 3
   },
   "file_extension": ".py",
   "mimetype": "text/x-python",
   "name": "python",
   "nbconvert_exporter": "python",
   "pygments_lexer": "ipython3",
   "version": "3.9.13"
  }
 },
 "nbformat": 4,
 "nbformat_minor": 5
}
